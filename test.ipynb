{
 "cells": [
  {
   "cell_type": "code",
   "execution_count": 1,
   "outputs": [],
   "source": [
    "from pygoogalytics.client import Client"
   ],
   "metadata": {
    "collapsed": false,
    "pycharm": {
     "name": "#%%\n"
    }
   }
  },
  {
   "cell_type": "code",
   "execution_count": 2,
   "outputs": [],
   "source": [
    "c = Client('/Users/joshua/Python_blink/localpenguin_secrets/googleapi_key.json')"
   ],
   "metadata": {
    "collapsed": false,
    "pycharm": {
     "name": "#%%\n"
    }
   }
  },
  {
   "cell_type": "code",
   "execution_count": null,
   "outputs": [],
   "source": [
    "c"
   ],
   "metadata": {
    "collapsed": false,
    "pycharm": {
     "name": "#%%\n",
     "is_executing": true
    }
   }
  },
  {
   "cell_type": "code",
   "execution_count": 4,
   "outputs": [],
   "source": [
    "w = c.wrapper(sc_domain='https://www.charming-beads.co.uk/', view_id='44006769')"
   ],
   "metadata": {
    "collapsed": false,
    "pycharm": {
     "name": "#%%\n"
    }
   }
  },
  {
   "cell_type": "code",
   "execution_count": 5,
   "outputs": [
    {
     "data": {
      "text/plain": "GoogalyticsWrapper object:\n{\n  \"API config\": {\n    \"GSC sc-domain\": \"https://www.charming-beads.co.uk/\",\n    \"GA3 View ID\": \"44006769\",\n    \"GA4 Property ID\": null\n  },\n  \"API status\": {\n    \"GSC status\": \"Success\",\n    \"GA3 status\": \"Success\",\n    \"GSC error\": null,\n    \"GA3 error\": null\n  },\n  \"Available datas\": {\n    \"GSC\": \"2021-10-09 to 2023-02-18 (100%)\",\n    \"GA3\": \"2019-01-13 to 2023-02-20 (100%)\"\n  }\n}"
     },
     "execution_count": 5,
     "metadata": {},
     "output_type": "execute_result"
    }
   ],
   "source": [
    "w"
   ],
   "metadata": {
    "collapsed": false,
    "pycharm": {
     "name": "#%%\n"
    }
   }
  },
  {
   "cell_type": "code",
   "execution_count": 6,
   "outputs": [],
   "source": [
    "d = w.available_dates"
   ],
   "metadata": {
    "collapsed": false,
    "pycharm": {
     "name": "#%%\n"
    }
   }
  },
  {
   "cell_type": "code",
   "execution_count": 7,
   "outputs": [
    {
     "data": {
      "text/plain": "dict_keys(['GA3', 'GA4', 'GSC'])"
     },
     "execution_count": 7,
     "metadata": {},
     "output_type": "execute_result"
    }
   ],
   "source": [
    "d.keys()"
   ],
   "metadata": {
    "collapsed": false,
    "pycharm": {
     "name": "#%%\n"
    }
   }
  },
  {
   "cell_type": "code",
   "execution_count": 8,
   "outputs": [
    {
     "data": {
      "text/plain": "{'GA3': [datetime.date(2019, 1, 13),\n  datetime.date(2019, 1, 14),\n  datetime.date(2019, 1, 15),\n  datetime.date(2019, 1, 16),\n  datetime.date(2019, 1, 17),\n  datetime.date(2019, 1, 18),\n  datetime.date(2019, 1, 19),\n  datetime.date(2019, 1, 20),\n  datetime.date(2019, 1, 21),\n  datetime.date(2019, 1, 22),\n  datetime.date(2019, 1, 23),\n  datetime.date(2019, 1, 24),\n  datetime.date(2019, 1, 25),\n  datetime.date(2019, 1, 26),\n  datetime.date(2019, 1, 27),\n  datetime.date(2019, 1, 28),\n  datetime.date(2019, 1, 29),\n  datetime.date(2019, 1, 30),\n  datetime.date(2019, 1, 31),\n  datetime.date(2019, 2, 1),\n  datetime.date(2019, 2, 2),\n  datetime.date(2019, 2, 3),\n  datetime.date(2019, 2, 4),\n  datetime.date(2019, 2, 5),\n  datetime.date(2019, 2, 6),\n  datetime.date(2019, 2, 7),\n  datetime.date(2019, 2, 8),\n  datetime.date(2019, 2, 9),\n  datetime.date(2019, 2, 10),\n  datetime.date(2019, 2, 11),\n  datetime.date(2019, 2, 12),\n  datetime.date(2019, 2, 13),\n  datetime.date(2019, 2, 14),\n  datetime.date(2019, 2, 15),\n  datetime.date(2019, 2, 16),\n  datetime.date(2019, 2, 17),\n  datetime.date(2019, 2, 18),\n  datetime.date(2019, 2, 19),\n  datetime.date(2019, 2, 20),\n  datetime.date(2019, 2, 21),\n  datetime.date(2019, 2, 22),\n  datetime.date(2019, 2, 23),\n  datetime.date(2019, 2, 24),\n  datetime.date(2019, 2, 25),\n  datetime.date(2019, 2, 26),\n  datetime.date(2019, 2, 27),\n  datetime.date(2019, 2, 28),\n  datetime.date(2019, 3, 1),\n  datetime.date(2019, 3, 2),\n  datetime.date(2019, 3, 3),\n  datetime.date(2019, 3, 4),\n  datetime.date(2019, 3, 5),\n  datetime.date(2019, 3, 6),\n  datetime.date(2019, 3, 7),\n  datetime.date(2019, 3, 8),\n  datetime.date(2019, 3, 9),\n  datetime.date(2019, 3, 10),\n  datetime.date(2019, 3, 11),\n  datetime.date(2019, 3, 12),\n  datetime.date(2019, 3, 13),\n  datetime.date(2019, 3, 14),\n  datetime.date(2019, 3, 15),\n  datetime.date(2019, 3, 16),\n  datetime.date(2019, 3, 17),\n  datetime.date(2019, 3, 18),\n  datetime.date(2019, 3, 19),\n  datetime.date(2019, 3, 20),\n  datetime.date(2019, 3, 21),\n  datetime.date(2019, 3, 22),\n  datetime.date(2019, 3, 23),\n  datetime.date(2019, 3, 24),\n  datetime.date(2019, 3, 25),\n  datetime.date(2019, 3, 26),\n  datetime.date(2019, 3, 27),\n  datetime.date(2019, 3, 28),\n  datetime.date(2019, 3, 29),\n  datetime.date(2019, 3, 30),\n  datetime.date(2019, 3, 31),\n  datetime.date(2019, 4, 1),\n  datetime.date(2019, 4, 2),\n  datetime.date(2019, 4, 3),\n  datetime.date(2019, 4, 4),\n  datetime.date(2019, 4, 5),\n  datetime.date(2019, 4, 6),\n  datetime.date(2019, 4, 7),\n  datetime.date(2019, 4, 8),\n  datetime.date(2019, 4, 9),\n  datetime.date(2019, 4, 10),\n  datetime.date(2019, 4, 11),\n  datetime.date(2019, 4, 12),\n  datetime.date(2019, 4, 14),\n  datetime.date(2019, 4, 15),\n  datetime.date(2019, 4, 16),\n  datetime.date(2019, 4, 17),\n  datetime.date(2019, 4, 18),\n  datetime.date(2019, 4, 19),\n  datetime.date(2019, 4, 21),\n  datetime.date(2019, 4, 22),\n  datetime.date(2019, 4, 23),\n  datetime.date(2019, 4, 24),\n  datetime.date(2019, 4, 25),\n  datetime.date(2019, 4, 26),\n  datetime.date(2019, 4, 27),\n  datetime.date(2019, 4, 28),\n  datetime.date(2019, 4, 29),\n  datetime.date(2019, 4, 30),\n  datetime.date(2019, 5, 1),\n  datetime.date(2019, 5, 2),\n  datetime.date(2019, 5, 3),\n  datetime.date(2019, 5, 4),\n  datetime.date(2019, 5, 5),\n  datetime.date(2019, 5, 6),\n  datetime.date(2019, 5, 7),\n  datetime.date(2019, 5, 8),\n  datetime.date(2019, 5, 9),\n  datetime.date(2019, 5, 10),\n  datetime.date(2019, 5, 11),\n  datetime.date(2019, 5, 12),\n  datetime.date(2019, 5, 13),\n  datetime.date(2019, 5, 14),\n  datetime.date(2019, 5, 15),\n  datetime.date(2019, 5, 16),\n  datetime.date(2019, 5, 17),\n  datetime.date(2019, 5, 18),\n  datetime.date(2019, 5, 19),\n  datetime.date(2019, 5, 20),\n  datetime.date(2019, 5, 21),\n  datetime.date(2019, 5, 22),\n  datetime.date(2019, 5, 23),\n  datetime.date(2019, 5, 24),\n  datetime.date(2019, 5, 25),\n  datetime.date(2019, 5, 26),\n  datetime.date(2019, 5, 27),\n  datetime.date(2019, 5, 28),\n  datetime.date(2019, 5, 29),\n  datetime.date(2019, 5, 30),\n  datetime.date(2019, 5, 31),\n  datetime.date(2019, 6, 1),\n  datetime.date(2019, 6, 2),\n  datetime.date(2019, 6, 3),\n  datetime.date(2019, 6, 4),\n  datetime.date(2019, 6, 5),\n  datetime.date(2019, 6, 6),\n  datetime.date(2019, 6, 7),\n  datetime.date(2019, 6, 8),\n  datetime.date(2019, 6, 9),\n  datetime.date(2019, 6, 10),\n  datetime.date(2019, 6, 11),\n  datetime.date(2019, 6, 12),\n  datetime.date(2019, 6, 13),\n  datetime.date(2019, 6, 14),\n  datetime.date(2019, 6, 15),\n  datetime.date(2019, 6, 16),\n  datetime.date(2019, 6, 17),\n  datetime.date(2019, 6, 18),\n  datetime.date(2019, 6, 19),\n  datetime.date(2019, 6, 20),\n  datetime.date(2019, 6, 21),\n  datetime.date(2019, 6, 22),\n  datetime.date(2019, 6, 23),\n  datetime.date(2019, 6, 24),\n  datetime.date(2019, 6, 25),\n  datetime.date(2019, 6, 26),\n  datetime.date(2019, 6, 27),\n  datetime.date(2019, 6, 28),\n  datetime.date(2019, 6, 29),\n  datetime.date(2019, 6, 30),\n  datetime.date(2019, 7, 1),\n  datetime.date(2019, 7, 2),\n  datetime.date(2019, 7, 3),\n  datetime.date(2019, 7, 4),\n  datetime.date(2019, 7, 5),\n  datetime.date(2019, 7, 6),\n  datetime.date(2019, 7, 7),\n  datetime.date(2019, 7, 8),\n  datetime.date(2019, 7, 9),\n  datetime.date(2019, 7, 10),\n  datetime.date(2019, 7, 11),\n  datetime.date(2019, 7, 12),\n  datetime.date(2019, 7, 13),\n  datetime.date(2019, 7, 14),\n  datetime.date(2019, 7, 15),\n  datetime.date(2019, 7, 16),\n  datetime.date(2019, 7, 17),\n  datetime.date(2019, 7, 18),\n  datetime.date(2019, 7, 19),\n  datetime.date(2019, 7, 20),\n  datetime.date(2019, 7, 21),\n  datetime.date(2019, 7, 22),\n  datetime.date(2019, 7, 23),\n  datetime.date(2019, 7, 24),\n  datetime.date(2019, 7, 25),\n  datetime.date(2019, 7, 26),\n  datetime.date(2019, 7, 27),\n  datetime.date(2019, 7, 28),\n  datetime.date(2019, 7, 29),\n  datetime.date(2019, 7, 30),\n  datetime.date(2019, 7, 31),\n  datetime.date(2019, 8, 1),\n  datetime.date(2019, 8, 2),\n  datetime.date(2019, 8, 3),\n  datetime.date(2019, 8, 4),\n  datetime.date(2019, 8, 5),\n  datetime.date(2019, 8, 6),\n  datetime.date(2019, 8, 7),\n  datetime.date(2019, 8, 8),\n  datetime.date(2019, 8, 9),\n  datetime.date(2019, 8, 10),\n  datetime.date(2019, 8, 11),\n  datetime.date(2019, 8, 12),\n  datetime.date(2019, 8, 13),\n  datetime.date(2019, 8, 14),\n  datetime.date(2019, 8, 15),\n  datetime.date(2019, 8, 16),\n  datetime.date(2019, 8, 17),\n  datetime.date(2019, 8, 18),\n  datetime.date(2019, 8, 19),\n  datetime.date(2019, 8, 20),\n  datetime.date(2019, 8, 21),\n  datetime.date(2019, 8, 22),\n  datetime.date(2019, 8, 23),\n  datetime.date(2019, 8, 24),\n  datetime.date(2019, 8, 25),\n  datetime.date(2019, 8, 26),\n  datetime.date(2019, 8, 27),\n  datetime.date(2019, 8, 28),\n  datetime.date(2019, 8, 29),\n  datetime.date(2019, 8, 30),\n  datetime.date(2019, 8, 31),\n  datetime.date(2019, 9, 1),\n  datetime.date(2019, 9, 2),\n  datetime.date(2019, 9, 3),\n  datetime.date(2019, 9, 4),\n  datetime.date(2019, 9, 5),\n  datetime.date(2019, 9, 6),\n  datetime.date(2019, 9, 7),\n  datetime.date(2019, 9, 8),\n  datetime.date(2019, 9, 9),\n  datetime.date(2019, 9, 10),\n  datetime.date(2019, 9, 11),\n  datetime.date(2019, 9, 12),\n  datetime.date(2019, 9, 13),\n  datetime.date(2019, 9, 14),\n  datetime.date(2019, 9, 15),\n  datetime.date(2019, 9, 16),\n  datetime.date(2019, 9, 17),\n  datetime.date(2019, 9, 18),\n  datetime.date(2019, 9, 19),\n  datetime.date(2019, 9, 20),\n  datetime.date(2019, 9, 21),\n  datetime.date(2019, 9, 22),\n  datetime.date(2019, 9, 23),\n  datetime.date(2019, 9, 24),\n  datetime.date(2019, 9, 25),\n  datetime.date(2019, 9, 26),\n  datetime.date(2019, 9, 27),\n  datetime.date(2019, 9, 28),\n  datetime.date(2019, 9, 29),\n  datetime.date(2019, 9, 30),\n  datetime.date(2019, 10, 1),\n  datetime.date(2019, 10, 2),\n  datetime.date(2019, 10, 3),\n  datetime.date(2019, 10, 4),\n  datetime.date(2019, 10, 5),\n  datetime.date(2019, 10, 6),\n  datetime.date(2019, 10, 7),\n  datetime.date(2019, 10, 8),\n  datetime.date(2019, 10, 9),\n  datetime.date(2019, 10, 10),\n  datetime.date(2019, 10, 11),\n  datetime.date(2019, 10, 12),\n  datetime.date(2019, 10, 13),\n  datetime.date(2019, 10, 14),\n  datetime.date(2019, 10, 15),\n  datetime.date(2019, 10, 16),\n  datetime.date(2019, 10, 17),\n  datetime.date(2019, 10, 18),\n  datetime.date(2019, 10, 19),\n  datetime.date(2019, 10, 20),\n  datetime.date(2019, 10, 21),\n  datetime.date(2019, 10, 22),\n  datetime.date(2019, 10, 23),\n  datetime.date(2019, 10, 24),\n  datetime.date(2019, 10, 25),\n  datetime.date(2019, 10, 26),\n  datetime.date(2019, 10, 27),\n  datetime.date(2019, 10, 28),\n  datetime.date(2019, 10, 29),\n  datetime.date(2019, 10, 30),\n  datetime.date(2019, 10, 31),\n  datetime.date(2019, 11, 1),\n  datetime.date(2019, 11, 2),\n  datetime.date(2019, 11, 3),\n  datetime.date(2019, 11, 4),\n  datetime.date(2019, 11, 5),\n  datetime.date(2019, 11, 6),\n  datetime.date(2019, 11, 7),\n  datetime.date(2019, 11, 8),\n  datetime.date(2019, 11, 9),\n  datetime.date(2019, 11, 10),\n  datetime.date(2019, 11, 11),\n  datetime.date(2019, 11, 12),\n  datetime.date(2019, 11, 13),\n  datetime.date(2019, 11, 14),\n  datetime.date(2019, 11, 15),\n  datetime.date(2019, 11, 16),\n  datetime.date(2019, 11, 17),\n  datetime.date(2019, 11, 18),\n  datetime.date(2019, 11, 19),\n  datetime.date(2019, 11, 20),\n  datetime.date(2019, 11, 21),\n  datetime.date(2019, 11, 22),\n  datetime.date(2019, 11, 23),\n  datetime.date(2019, 11, 24),\n  datetime.date(2019, 11, 25),\n  datetime.date(2019, 11, 26),\n  datetime.date(2019, 11, 27),\n  datetime.date(2019, 11, 28),\n  datetime.date(2019, 11, 29),\n  datetime.date(2019, 11, 30),\n  datetime.date(2019, 12, 1),\n  datetime.date(2019, 12, 2),\n  datetime.date(2019, 12, 3),\n  datetime.date(2019, 12, 4),\n  datetime.date(2019, 12, 5),\n  datetime.date(2019, 12, 6),\n  datetime.date(2019, 12, 7),\n  datetime.date(2019, 12, 8),\n  datetime.date(2019, 12, 9),\n  datetime.date(2019, 12, 10),\n  datetime.date(2019, 12, 11),\n  datetime.date(2019, 12, 12),\n  datetime.date(2019, 12, 13),\n  datetime.date(2019, 12, 14),\n  datetime.date(2019, 12, 15),\n  datetime.date(2019, 12, 16),\n  datetime.date(2019, 12, 17),\n  datetime.date(2019, 12, 18),\n  datetime.date(2019, 12, 19),\n  datetime.date(2019, 12, 20),\n  datetime.date(2019, 12, 21),\n  datetime.date(2019, 12, 22),\n  datetime.date(2019, 12, 23),\n  datetime.date(2019, 12, 24),\n  datetime.date(2019, 12, 25),\n  datetime.date(2019, 12, 26),\n  datetime.date(2019, 12, 27),\n  datetime.date(2019, 12, 28),\n  datetime.date(2019, 12, 29),\n  datetime.date(2019, 12, 30),\n  datetime.date(2019, 12, 31),\n  datetime.date(2020, 1, 1),\n  datetime.date(2020, 1, 2),\n  datetime.date(2020, 1, 3),\n  datetime.date(2020, 1, 4),\n  datetime.date(2020, 1, 5),\n  datetime.date(2020, 1, 6),\n  datetime.date(2020, 1, 7),\n  datetime.date(2020, 1, 8),\n  datetime.date(2020, 1, 9),\n  datetime.date(2020, 1, 10),\n  datetime.date(2020, 1, 11),\n  datetime.date(2020, 1, 12),\n  datetime.date(2020, 1, 13),\n  datetime.date(2020, 1, 14),\n  datetime.date(2020, 1, 15),\n  datetime.date(2020, 1, 16),\n  datetime.date(2020, 1, 17),\n  datetime.date(2020, 1, 18),\n  datetime.date(2020, 1, 19),\n  datetime.date(2020, 1, 20),\n  datetime.date(2020, 1, 21),\n  datetime.date(2020, 1, 22),\n  datetime.date(2020, 1, 23),\n  datetime.date(2020, 1, 24),\n  datetime.date(2020, 1, 25),\n  datetime.date(2020, 1, 26),\n  datetime.date(2020, 1, 27),\n  datetime.date(2020, 1, 28),\n  datetime.date(2020, 1, 29),\n  datetime.date(2020, 1, 30),\n  datetime.date(2020, 1, 31),\n  datetime.date(2020, 2, 1),\n  datetime.date(2020, 2, 2),\n  datetime.date(2020, 2, 3),\n  datetime.date(2020, 2, 4),\n  datetime.date(2020, 2, 5),\n  datetime.date(2020, 2, 6),\n  datetime.date(2020, 2, 7),\n  datetime.date(2020, 2, 8),\n  datetime.date(2020, 2, 9),\n  datetime.date(2020, 2, 10),\n  datetime.date(2020, 2, 11),\n  datetime.date(2020, 2, 12),\n  datetime.date(2020, 2, 13),\n  datetime.date(2020, 2, 14),\n  datetime.date(2020, 2, 15),\n  datetime.date(2020, 2, 16),\n  datetime.date(2020, 2, 17),\n  datetime.date(2020, 2, 18),\n  datetime.date(2020, 2, 19),\n  datetime.date(2020, 2, 20),\n  datetime.date(2020, 2, 21),\n  datetime.date(2020, 2, 22),\n  datetime.date(2020, 2, 23),\n  datetime.date(2020, 2, 24),\n  datetime.date(2020, 2, 25),\n  datetime.date(2020, 2, 26),\n  datetime.date(2020, 2, 27),\n  datetime.date(2020, 2, 28),\n  datetime.date(2020, 2, 29),\n  datetime.date(2020, 3, 1),\n  datetime.date(2020, 3, 2),\n  datetime.date(2020, 3, 3),\n  datetime.date(2020, 3, 4),\n  datetime.date(2020, 3, 5),\n  datetime.date(2020, 3, 6),\n  datetime.date(2020, 3, 7),\n  datetime.date(2020, 3, 8),\n  datetime.date(2020, 3, 9),\n  datetime.date(2020, 3, 10),\n  datetime.date(2020, 3, 11),\n  datetime.date(2020, 3, 12),\n  datetime.date(2020, 3, 13),\n  datetime.date(2020, 3, 14),\n  datetime.date(2020, 3, 15),\n  datetime.date(2020, 3, 16),\n  datetime.date(2020, 3, 17),\n  datetime.date(2020, 3, 18),\n  datetime.date(2020, 3, 19),\n  datetime.date(2020, 3, 20),\n  datetime.date(2020, 3, 21),\n  datetime.date(2020, 3, 22),\n  datetime.date(2020, 3, 23),\n  datetime.date(2020, 3, 24),\n  datetime.date(2020, 3, 25),\n  datetime.date(2020, 3, 26),\n  datetime.date(2020, 3, 27),\n  datetime.date(2020, 3, 28),\n  datetime.date(2020, 3, 29),\n  datetime.date(2020, 3, 30),\n  datetime.date(2020, 3, 31),\n  datetime.date(2020, 4, 1),\n  datetime.date(2020, 4, 2),\n  datetime.date(2020, 4, 3),\n  datetime.date(2020, 4, 4),\n  datetime.date(2020, 4, 5),\n  datetime.date(2020, 4, 6),\n  datetime.date(2020, 4, 7),\n  datetime.date(2020, 4, 8),\n  datetime.date(2020, 4, 9),\n  datetime.date(2020, 4, 10),\n  datetime.date(2020, 4, 11),\n  datetime.date(2020, 4, 12),\n  datetime.date(2020, 4, 13),\n  datetime.date(2020, 4, 14),\n  datetime.date(2020, 4, 15),\n  datetime.date(2020, 4, 16),\n  datetime.date(2020, 4, 17),\n  datetime.date(2020, 4, 18),\n  datetime.date(2020, 4, 19),\n  datetime.date(2020, 4, 20),\n  datetime.date(2020, 4, 21),\n  datetime.date(2020, 4, 22),\n  datetime.date(2020, 4, 23),\n  datetime.date(2020, 4, 24),\n  datetime.date(2020, 4, 25),\n  datetime.date(2020, 4, 26),\n  datetime.date(2020, 4, 27),\n  datetime.date(2020, 4, 28),\n  datetime.date(2020, 4, 29),\n  datetime.date(2020, 4, 30),\n  datetime.date(2020, 5, 1),\n  datetime.date(2020, 5, 2),\n  datetime.date(2020, 5, 3),\n  datetime.date(2020, 5, 4),\n  datetime.date(2020, 5, 5),\n  datetime.date(2020, 5, 6),\n  datetime.date(2020, 5, 7),\n  datetime.date(2020, 5, 8),\n  datetime.date(2020, 5, 9),\n  datetime.date(2020, 5, 10),\n  datetime.date(2020, 5, 11),\n  datetime.date(2020, 5, 12),\n  datetime.date(2020, 5, 13),\n  datetime.date(2020, 5, 14),\n  datetime.date(2020, 5, 15),\n  datetime.date(2020, 5, 16),\n  datetime.date(2020, 5, 17),\n  datetime.date(2020, 5, 18),\n  datetime.date(2020, 5, 19),\n  datetime.date(2020, 5, 20),\n  datetime.date(2020, 5, 21),\n  datetime.date(2020, 5, 22),\n  datetime.date(2020, 5, 23),\n  datetime.date(2020, 5, 24),\n  datetime.date(2020, 5, 25),\n  datetime.date(2020, 5, 26),\n  datetime.date(2020, 5, 27),\n  datetime.date(2020, 5, 28),\n  datetime.date(2020, 5, 29),\n  datetime.date(2020, 5, 30),\n  datetime.date(2020, 5, 31),\n  datetime.date(2020, 6, 1),\n  datetime.date(2020, 6, 2),\n  datetime.date(2020, 6, 3),\n  datetime.date(2020, 6, 4),\n  datetime.date(2020, 6, 5),\n  datetime.date(2020, 6, 6),\n  datetime.date(2020, 6, 7),\n  datetime.date(2020, 6, 8),\n  datetime.date(2020, 6, 9),\n  datetime.date(2020, 6, 10),\n  datetime.date(2020, 6, 11),\n  datetime.date(2020, 6, 12),\n  datetime.date(2020, 6, 13),\n  datetime.date(2020, 6, 14),\n  datetime.date(2020, 6, 15),\n  datetime.date(2020, 6, 16),\n  datetime.date(2020, 6, 17),\n  datetime.date(2020, 6, 18),\n  datetime.date(2020, 6, 19),\n  datetime.date(2020, 6, 20),\n  datetime.date(2020, 6, 21),\n  datetime.date(2020, 6, 22),\n  datetime.date(2020, 6, 23),\n  datetime.date(2020, 6, 24),\n  datetime.date(2020, 6, 25),\n  datetime.date(2020, 6, 26),\n  datetime.date(2020, 6, 27),\n  datetime.date(2020, 6, 28),\n  datetime.date(2020, 6, 29),\n  datetime.date(2020, 6, 30),\n  datetime.date(2020, 7, 1),\n  datetime.date(2020, 7, 2),\n  datetime.date(2020, 7, 3),\n  datetime.date(2020, 7, 4),\n  datetime.date(2020, 7, 5),\n  datetime.date(2020, 7, 6),\n  datetime.date(2020, 7, 7),\n  datetime.date(2020, 7, 8),\n  datetime.date(2020, 7, 9),\n  datetime.date(2020, 7, 10),\n  datetime.date(2020, 7, 11),\n  datetime.date(2020, 7, 12),\n  datetime.date(2020, 7, 13),\n  datetime.date(2020, 7, 14),\n  datetime.date(2020, 7, 15),\n  datetime.date(2020, 7, 16),\n  datetime.date(2020, 7, 17),\n  datetime.date(2020, 7, 18),\n  datetime.date(2020, 7, 19),\n  datetime.date(2020, 7, 20),\n  datetime.date(2020, 7, 21),\n  datetime.date(2020, 7, 22),\n  datetime.date(2020, 7, 23),\n  datetime.date(2020, 7, 24),\n  datetime.date(2020, 7, 25),\n  datetime.date(2020, 7, 26),\n  datetime.date(2020, 7, 27),\n  datetime.date(2020, 7, 28),\n  datetime.date(2020, 7, 29),\n  datetime.date(2020, 7, 30),\n  datetime.date(2020, 7, 31),\n  datetime.date(2020, 8, 1),\n  datetime.date(2020, 8, 2),\n  datetime.date(2020, 8, 3),\n  datetime.date(2020, 8, 4),\n  datetime.date(2020, 8, 5),\n  datetime.date(2020, 8, 6),\n  datetime.date(2020, 8, 7),\n  datetime.date(2020, 8, 8),\n  datetime.date(2020, 8, 9),\n  datetime.date(2020, 8, 10),\n  datetime.date(2020, 8, 11),\n  datetime.date(2020, 8, 12),\n  datetime.date(2020, 8, 13),\n  datetime.date(2020, 8, 14),\n  datetime.date(2020, 8, 15),\n  datetime.date(2020, 8, 16),\n  datetime.date(2020, 8, 17),\n  datetime.date(2020, 8, 18),\n  datetime.date(2020, 8, 19),\n  datetime.date(2020, 8, 20),\n  datetime.date(2020, 8, 21),\n  datetime.date(2020, 8, 22),\n  datetime.date(2020, 8, 23),\n  datetime.date(2020, 8, 24),\n  datetime.date(2020, 8, 25),\n  datetime.date(2020, 8, 26),\n  datetime.date(2020, 8, 27),\n  datetime.date(2020, 8, 28),\n  datetime.date(2020, 8, 29),\n  datetime.date(2020, 8, 30),\n  datetime.date(2020, 8, 31),\n  datetime.date(2020, 9, 1),\n  datetime.date(2020, 9, 2),\n  datetime.date(2020, 9, 3),\n  datetime.date(2020, 9, 4),\n  datetime.date(2020, 9, 5),\n  datetime.date(2020, 9, 6),\n  datetime.date(2020, 9, 7),\n  datetime.date(2020, 9, 8),\n  datetime.date(2020, 9, 9),\n  datetime.date(2020, 9, 10),\n  datetime.date(2020, 9, 11),\n  datetime.date(2020, 9, 12),\n  datetime.date(2020, 9, 13),\n  datetime.date(2020, 9, 14),\n  datetime.date(2020, 9, 15),\n  datetime.date(2020, 9, 16),\n  datetime.date(2020, 9, 17),\n  datetime.date(2020, 9, 18),\n  datetime.date(2020, 9, 19),\n  datetime.date(2020, 9, 20),\n  datetime.date(2020, 9, 21),\n  datetime.date(2020, 9, 22),\n  datetime.date(2020, 9, 23),\n  datetime.date(2020, 9, 24),\n  datetime.date(2020, 9, 25),\n  datetime.date(2020, 9, 26),\n  datetime.date(2020, 9, 27),\n  datetime.date(2020, 9, 28),\n  datetime.date(2020, 9, 29),\n  datetime.date(2020, 9, 30),\n  datetime.date(2020, 10, 1),\n  datetime.date(2020, 10, 2),\n  datetime.date(2020, 10, 3),\n  datetime.date(2020, 10, 4),\n  datetime.date(2020, 10, 5),\n  datetime.date(2020, 10, 6),\n  datetime.date(2020, 10, 7),\n  datetime.date(2020, 10, 8),\n  datetime.date(2020, 10, 9),\n  datetime.date(2020, 10, 10),\n  datetime.date(2020, 10, 11),\n  datetime.date(2020, 10, 12),\n  datetime.date(2020, 10, 13),\n  datetime.date(2020, 10, 14),\n  datetime.date(2020, 10, 15),\n  datetime.date(2020, 10, 16),\n  datetime.date(2020, 10, 17),\n  datetime.date(2020, 10, 18),\n  datetime.date(2020, 10, 19),\n  datetime.date(2020, 10, 20),\n  datetime.date(2020, 10, 21),\n  datetime.date(2020, 10, 22),\n  datetime.date(2020, 10, 23),\n  datetime.date(2020, 10, 24),\n  datetime.date(2020, 10, 25),\n  datetime.date(2020, 10, 26),\n  datetime.date(2020, 10, 27),\n  datetime.date(2020, 10, 28),\n  datetime.date(2020, 10, 29),\n  datetime.date(2020, 10, 30),\n  datetime.date(2020, 10, 31),\n  datetime.date(2020, 11, 1),\n  datetime.date(2020, 11, 2),\n  datetime.date(2020, 11, 3),\n  datetime.date(2020, 11, 4),\n  datetime.date(2020, 11, 5),\n  datetime.date(2020, 11, 6),\n  datetime.date(2020, 11, 7),\n  datetime.date(2020, 11, 8),\n  datetime.date(2020, 11, 9),\n  datetime.date(2020, 11, 10),\n  datetime.date(2020, 11, 11),\n  datetime.date(2020, 11, 12),\n  datetime.date(2020, 11, 13),\n  datetime.date(2020, 11, 14),\n  datetime.date(2020, 11, 15),\n  datetime.date(2020, 11, 16),\n  datetime.date(2020, 11, 17),\n  datetime.date(2020, 11, 18),\n  datetime.date(2020, 11, 19),\n  datetime.date(2020, 11, 20),\n  datetime.date(2020, 11, 21),\n  datetime.date(2020, 11, 22),\n  datetime.date(2020, 11, 23),\n  datetime.date(2020, 11, 24),\n  datetime.date(2020, 11, 25),\n  datetime.date(2020, 11, 26),\n  datetime.date(2020, 11, 27),\n  datetime.date(2020, 11, 28),\n  datetime.date(2020, 11, 29),\n  datetime.date(2020, 11, 30),\n  datetime.date(2020, 12, 1),\n  datetime.date(2020, 12, 2),\n  datetime.date(2020, 12, 3),\n  datetime.date(2020, 12, 4),\n  datetime.date(2020, 12, 5),\n  datetime.date(2020, 12, 6),\n  datetime.date(2020, 12, 7),\n  datetime.date(2020, 12, 8),\n  datetime.date(2020, 12, 9),\n  datetime.date(2020, 12, 10),\n  datetime.date(2020, 12, 11),\n  datetime.date(2020, 12, 12),\n  datetime.date(2020, 12, 13),\n  datetime.date(2020, 12, 14),\n  datetime.date(2020, 12, 15),\n  datetime.date(2020, 12, 16),\n  datetime.date(2020, 12, 17),\n  datetime.date(2020, 12, 18),\n  datetime.date(2020, 12, 19),\n  datetime.date(2020, 12, 20),\n  datetime.date(2020, 12, 21),\n  datetime.date(2020, 12, 22),\n  datetime.date(2020, 12, 23),\n  datetime.date(2020, 12, 24),\n  datetime.date(2020, 12, 25),\n  datetime.date(2020, 12, 26),\n  datetime.date(2020, 12, 27),\n  datetime.date(2020, 12, 28),\n  datetime.date(2020, 12, 29),\n  datetime.date(2020, 12, 30),\n  datetime.date(2020, 12, 31),\n  datetime.date(2021, 1, 1),\n  datetime.date(2021, 1, 2),\n  datetime.date(2021, 1, 3),\n  datetime.date(2021, 1, 4),\n  datetime.date(2021, 1, 5),\n  datetime.date(2021, 1, 6),\n  datetime.date(2021, 1, 7),\n  datetime.date(2021, 1, 8),\n  datetime.date(2021, 1, 9),\n  datetime.date(2021, 1, 10),\n  datetime.date(2021, 1, 11),\n  datetime.date(2021, 1, 12),\n  datetime.date(2021, 1, 13),\n  datetime.date(2021, 1, 14),\n  datetime.date(2021, 1, 15),\n  datetime.date(2021, 1, 16),\n  datetime.date(2021, 1, 17),\n  datetime.date(2021, 1, 18),\n  datetime.date(2021, 1, 19),\n  datetime.date(2021, 1, 20),\n  datetime.date(2021, 1, 21),\n  datetime.date(2021, 1, 22),\n  datetime.date(2021, 1, 23),\n  datetime.date(2021, 1, 24),\n  datetime.date(2021, 1, 25),\n  datetime.date(2021, 1, 26),\n  datetime.date(2021, 1, 27),\n  datetime.date(2021, 1, 28),\n  datetime.date(2021, 1, 29),\n  datetime.date(2021, 1, 30),\n  datetime.date(2021, 1, 31),\n  datetime.date(2021, 2, 1),\n  datetime.date(2021, 2, 2),\n  datetime.date(2021, 2, 3),\n  datetime.date(2021, 2, 4),\n  datetime.date(2021, 2, 5),\n  datetime.date(2021, 2, 6),\n  datetime.date(2021, 2, 7),\n  datetime.date(2021, 2, 8),\n  datetime.date(2021, 2, 9),\n  datetime.date(2021, 2, 10),\n  datetime.date(2021, 2, 11),\n  datetime.date(2021, 2, 12),\n  datetime.date(2021, 2, 13),\n  datetime.date(2021, 2, 14),\n  datetime.date(2021, 2, 15),\n  datetime.date(2021, 2, 16),\n  datetime.date(2021, 2, 17),\n  datetime.date(2021, 2, 18),\n  datetime.date(2021, 2, 19),\n  datetime.date(2021, 2, 20),\n  datetime.date(2021, 2, 21),\n  datetime.date(2021, 2, 22),\n  datetime.date(2021, 2, 23),\n  datetime.date(2021, 2, 24),\n  datetime.date(2021, 2, 25),\n  datetime.date(2021, 2, 26),\n  datetime.date(2021, 2, 27),\n  datetime.date(2021, 2, 28),\n  datetime.date(2021, 3, 1),\n  datetime.date(2021, 3, 2),\n  datetime.date(2021, 3, 3),\n  datetime.date(2021, 3, 4),\n  datetime.date(2021, 3, 5),\n  datetime.date(2021, 3, 6),\n  datetime.date(2021, 3, 7),\n  datetime.date(2021, 3, 8),\n  datetime.date(2021, 3, 9),\n  datetime.date(2021, 3, 10),\n  datetime.date(2021, 3, 11),\n  datetime.date(2021, 3, 12),\n  datetime.date(2021, 3, 13),\n  datetime.date(2021, 3, 14),\n  datetime.date(2021, 3, 15),\n  datetime.date(2021, 3, 16),\n  datetime.date(2021, 3, 17),\n  datetime.date(2021, 3, 18),\n  datetime.date(2021, 3, 19),\n  datetime.date(2021, 3, 20),\n  datetime.date(2021, 3, 21),\n  datetime.date(2021, 3, 22),\n  datetime.date(2021, 3, 23),\n  datetime.date(2021, 3, 24),\n  datetime.date(2021, 3, 25),\n  datetime.date(2021, 3, 26),\n  datetime.date(2021, 3, 27),\n  datetime.date(2021, 3, 28),\n  datetime.date(2021, 3, 29),\n  datetime.date(2021, 3, 30),\n  datetime.date(2021, 3, 31),\n  datetime.date(2021, 4, 1),\n  datetime.date(2021, 4, 2),\n  datetime.date(2021, 4, 3),\n  datetime.date(2021, 4, 4),\n  datetime.date(2021, 4, 5),\n  datetime.date(2021, 4, 6),\n  datetime.date(2021, 4, 7),\n  datetime.date(2021, 4, 8),\n  datetime.date(2021, 4, 9),\n  datetime.date(2021, 4, 10),\n  datetime.date(2021, 4, 11),\n  datetime.date(2021, 4, 12),\n  datetime.date(2021, 4, 13),\n  datetime.date(2021, 4, 14),\n  datetime.date(2021, 4, 15),\n  datetime.date(2021, 4, 16),\n  datetime.date(2021, 4, 17),\n  datetime.date(2021, 4, 18),\n  datetime.date(2021, 4, 19),\n  datetime.date(2021, 4, 20),\n  datetime.date(2021, 4, 21),\n  datetime.date(2021, 4, 22),\n  datetime.date(2021, 4, 23),\n  datetime.date(2021, 4, 24),\n  datetime.date(2021, 4, 25),\n  datetime.date(2021, 4, 26),\n  datetime.date(2021, 4, 27),\n  datetime.date(2021, 4, 28),\n  datetime.date(2021, 4, 29),\n  datetime.date(2021, 4, 30),\n  datetime.date(2021, 5, 1),\n  datetime.date(2021, 5, 2),\n  datetime.date(2021, 5, 3),\n  datetime.date(2021, 5, 4),\n  datetime.date(2021, 5, 5),\n  datetime.date(2021, 5, 6),\n  datetime.date(2021, 5, 7),\n  datetime.date(2021, 5, 8),\n  datetime.date(2021, 5, 9),\n  datetime.date(2021, 5, 10),\n  datetime.date(2021, 5, 11),\n  datetime.date(2021, 5, 12),\n  datetime.date(2021, 5, 13),\n  datetime.date(2021, 5, 14),\n  datetime.date(2021, 5, 15),\n  datetime.date(2021, 5, 16),\n  datetime.date(2021, 5, 17),\n  datetime.date(2021, 5, 18),\n  datetime.date(2021, 5, 19),\n  datetime.date(2021, 5, 20),\n  datetime.date(2021, 5, 21),\n  datetime.date(2021, 5, 22),\n  datetime.date(2021, 5, 23),\n  datetime.date(2021, 5, 24),\n  datetime.date(2021, 5, 25),\n  datetime.date(2021, 5, 26),\n  datetime.date(2021, 5, 27),\n  datetime.date(2021, 5, 28),\n  datetime.date(2021, 5, 29),\n  datetime.date(2021, 5, 30),\n  datetime.date(2021, 5, 31),\n  datetime.date(2021, 6, 1),\n  datetime.date(2021, 6, 2),\n  datetime.date(2021, 6, 3),\n  datetime.date(2021, 6, 4),\n  datetime.date(2021, 6, 5),\n  datetime.date(2021, 6, 6),\n  datetime.date(2021, 6, 7),\n  datetime.date(2021, 6, 8),\n  datetime.date(2021, 6, 9),\n  datetime.date(2021, 6, 10),\n  datetime.date(2021, 6, 11),\n  datetime.date(2021, 6, 12),\n  datetime.date(2021, 6, 13),\n  datetime.date(2021, 6, 14),\n  datetime.date(2021, 6, 15),\n  datetime.date(2021, 6, 16),\n  datetime.date(2021, 6, 17),\n  datetime.date(2021, 6, 18),\n  datetime.date(2021, 6, 19),\n  datetime.date(2021, 6, 20),\n  datetime.date(2021, 6, 21),\n  datetime.date(2021, 6, 22),\n  datetime.date(2021, 6, 23),\n  datetime.date(2021, 6, 24),\n  datetime.date(2021, 6, 25),\n  datetime.date(2021, 6, 26),\n  datetime.date(2021, 6, 27),\n  datetime.date(2021, 6, 28),\n  datetime.date(2021, 6, 29),\n  datetime.date(2021, 6, 30),\n  datetime.date(2021, 7, 1),\n  datetime.date(2021, 7, 2),\n  datetime.date(2021, 7, 3),\n  datetime.date(2021, 7, 4),\n  datetime.date(2021, 7, 5),\n  datetime.date(2021, 7, 6),\n  datetime.date(2021, 7, 7),\n  datetime.date(2021, 7, 8),\n  datetime.date(2021, 7, 9),\n  datetime.date(2021, 7, 10),\n  datetime.date(2021, 7, 11),\n  datetime.date(2021, 7, 12),\n  datetime.date(2021, 7, 13),\n  datetime.date(2021, 7, 14),\n  datetime.date(2021, 7, 15),\n  datetime.date(2021, 7, 16),\n  datetime.date(2021, 7, 17),\n  datetime.date(2021, 7, 18),\n  datetime.date(2021, 7, 19),\n  datetime.date(2021, 7, 20),\n  datetime.date(2021, 7, 21),\n  datetime.date(2021, 7, 22),\n  datetime.date(2021, 7, 23),\n  datetime.date(2021, 7, 24),\n  datetime.date(2021, 7, 25),\n  datetime.date(2021, 7, 26),\n  datetime.date(2021, 7, 27),\n  datetime.date(2021, 7, 28),\n  datetime.date(2021, 7, 29),\n  datetime.date(2021, 7, 30),\n  datetime.date(2021, 7, 31),\n  datetime.date(2021, 8, 1),\n  datetime.date(2021, 8, 2),\n  datetime.date(2021, 8, 3),\n  datetime.date(2021, 8, 4),\n  datetime.date(2021, 8, 5),\n  datetime.date(2021, 8, 6),\n  datetime.date(2021, 8, 7),\n  datetime.date(2021, 8, 8),\n  datetime.date(2021, 8, 9),\n  datetime.date(2021, 8, 10),\n  datetime.date(2021, 8, 11),\n  datetime.date(2021, 8, 12),\n  datetime.date(2021, 8, 13),\n  datetime.date(2021, 8, 14),\n  datetime.date(2021, 8, 15),\n  datetime.date(2021, 8, 16),\n  datetime.date(2021, 8, 17),\n  datetime.date(2021, 8, 18),\n  datetime.date(2021, 8, 19),\n  datetime.date(2021, 8, 20),\n  datetime.date(2021, 8, 21),\n  datetime.date(2021, 8, 22),\n  datetime.date(2021, 8, 23),\n  datetime.date(2021, 8, 24),\n  datetime.date(2021, 8, 25),\n  datetime.date(2021, 8, 26),\n  datetime.date(2021, 8, 27),\n  datetime.date(2021, 8, 28),\n  datetime.date(2021, 8, 29),\n  datetime.date(2021, 8, 30),\n  datetime.date(2021, 8, 31),\n  datetime.date(2021, 9, 1),\n  datetime.date(2021, 9, 2),\n  datetime.date(2021, 9, 3),\n  datetime.date(2021, 9, 4),\n  datetime.date(2021, 9, 5),\n  datetime.date(2021, 9, 6),\n  datetime.date(2021, 9, 7),\n  datetime.date(2021, 9, 8),\n  datetime.date(2021, 9, 9),\n  datetime.date(2021, 9, 10),\n  datetime.date(2021, 9, 11),\n  datetime.date(2021, 9, 12),\n  datetime.date(2021, 9, 13),\n  datetime.date(2021, 9, 14),\n  datetime.date(2021, 9, 15),\n  datetime.date(2021, 9, 16),\n  datetime.date(2021, 9, 17),\n  datetime.date(2021, 9, 18),\n  datetime.date(2021, 9, 19),\n  datetime.date(2021, 9, 20),\n  datetime.date(2021, 9, 21),\n  datetime.date(2021, 9, 22),\n  datetime.date(2021, 9, 23),\n  datetime.date(2021, 9, 24),\n  datetime.date(2021, 9, 25),\n  datetime.date(2021, 9, 26),\n  datetime.date(2021, 9, 27),\n  datetime.date(2021, 9, 28),\n  datetime.date(2021, 9, 29),\n  datetime.date(2021, 9, 30),\n  datetime.date(2021, 10, 1),\n  datetime.date(2021, 10, 2),\n  datetime.date(2021, 10, 3),\n  datetime.date(2021, 10, 4),\n  datetime.date(2021, 10, 5),\n  datetime.date(2021, 10, 6),\n  datetime.date(2021, 10, 7),\n  datetime.date(2021, 10, 8),\n  datetime.date(2021, 10, 9),\n  datetime.date(2021, 10, 10),\n  ...],\n 'GA4': [],\n 'GSC': [datetime.date(2021, 10, 9),\n  datetime.date(2021, 10, 10),\n  datetime.date(2021, 10, 11),\n  datetime.date(2021, 10, 12),\n  datetime.date(2021, 10, 13),\n  datetime.date(2021, 10, 14),\n  datetime.date(2021, 10, 15),\n  datetime.date(2021, 10, 16),\n  datetime.date(2021, 10, 17),\n  datetime.date(2021, 10, 18),\n  datetime.date(2021, 10, 19),\n  datetime.date(2021, 10, 20),\n  datetime.date(2021, 10, 21),\n  datetime.date(2021, 10, 22),\n  datetime.date(2021, 10, 23),\n  datetime.date(2021, 10, 24),\n  datetime.date(2021, 10, 25),\n  datetime.date(2021, 10, 26),\n  datetime.date(2021, 10, 27),\n  datetime.date(2021, 10, 28),\n  datetime.date(2021, 10, 29),\n  datetime.date(2021, 10, 30),\n  datetime.date(2021, 10, 31),\n  datetime.date(2021, 11, 1),\n  datetime.date(2021, 11, 2),\n  datetime.date(2021, 11, 3),\n  datetime.date(2021, 11, 4),\n  datetime.date(2021, 11, 5),\n  datetime.date(2021, 11, 6),\n  datetime.date(2021, 11, 7),\n  datetime.date(2021, 11, 8),\n  datetime.date(2021, 11, 9),\n  datetime.date(2021, 11, 10),\n  datetime.date(2021, 11, 11),\n  datetime.date(2021, 11, 12),\n  datetime.date(2021, 11, 13),\n  datetime.date(2021, 11, 14),\n  datetime.date(2021, 11, 15),\n  datetime.date(2021, 11, 16),\n  datetime.date(2021, 11, 17),\n  datetime.date(2021, 11, 18),\n  datetime.date(2021, 11, 19),\n  datetime.date(2021, 11, 20),\n  datetime.date(2021, 11, 21),\n  datetime.date(2021, 11, 22),\n  datetime.date(2021, 11, 23),\n  datetime.date(2021, 11, 24),\n  datetime.date(2021, 11, 25),\n  datetime.date(2021, 11, 26),\n  datetime.date(2021, 11, 27),\n  datetime.date(2021, 11, 28),\n  datetime.date(2021, 11, 29),\n  datetime.date(2021, 11, 30),\n  datetime.date(2021, 12, 1),\n  datetime.date(2021, 12, 2),\n  datetime.date(2021, 12, 3),\n  datetime.date(2021, 12, 4),\n  datetime.date(2021, 12, 5),\n  datetime.date(2021, 12, 6),\n  datetime.date(2021, 12, 7),\n  datetime.date(2021, 12, 8),\n  datetime.date(2021, 12, 9),\n  datetime.date(2021, 12, 10),\n  datetime.date(2021, 12, 11),\n  datetime.date(2021, 12, 12),\n  datetime.date(2021, 12, 13),\n  datetime.date(2021, 12, 14),\n  datetime.date(2021, 12, 15),\n  datetime.date(2021, 12, 16),\n  datetime.date(2021, 12, 17),\n  datetime.date(2021, 12, 18),\n  datetime.date(2021, 12, 19),\n  datetime.date(2021, 12, 20),\n  datetime.date(2021, 12, 21),\n  datetime.date(2021, 12, 22),\n  datetime.date(2021, 12, 23),\n  datetime.date(2021, 12, 24),\n  datetime.date(2021, 12, 25),\n  datetime.date(2021, 12, 26),\n  datetime.date(2021, 12, 27),\n  datetime.date(2021, 12, 28),\n  datetime.date(2021, 12, 29),\n  datetime.date(2021, 12, 30),\n  datetime.date(2021, 12, 31),\n  datetime.date(2022, 1, 1),\n  datetime.date(2022, 1, 2),\n  datetime.date(2022, 1, 3),\n  datetime.date(2022, 1, 4),\n  datetime.date(2022, 1, 5),\n  datetime.date(2022, 1, 6),\n  datetime.date(2022, 1, 7),\n  datetime.date(2022, 1, 8),\n  datetime.date(2022, 1, 9),\n  datetime.date(2022, 1, 10),\n  datetime.date(2022, 1, 11),\n  datetime.date(2022, 1, 12),\n  datetime.date(2022, 1, 13),\n  datetime.date(2022, 1, 14),\n  datetime.date(2022, 1, 15),\n  datetime.date(2022, 1, 16),\n  datetime.date(2022, 1, 17),\n  datetime.date(2022, 1, 18),\n  datetime.date(2022, 1, 19),\n  datetime.date(2022, 1, 20),\n  datetime.date(2022, 1, 21),\n  datetime.date(2022, 1, 22),\n  datetime.date(2022, 1, 23),\n  datetime.date(2022, 1, 24),\n  datetime.date(2022, 1, 25),\n  datetime.date(2022, 1, 26),\n  datetime.date(2022, 1, 27),\n  datetime.date(2022, 1, 28),\n  datetime.date(2022, 1, 29),\n  datetime.date(2022, 1, 30),\n  datetime.date(2022, 1, 31),\n  datetime.date(2022, 2, 1),\n  datetime.date(2022, 2, 2),\n  datetime.date(2022, 2, 3),\n  datetime.date(2022, 2, 4),\n  datetime.date(2022, 2, 5),\n  datetime.date(2022, 2, 6),\n  datetime.date(2022, 2, 7),\n  datetime.date(2022, 2, 8),\n  datetime.date(2022, 2, 9),\n  datetime.date(2022, 2, 10),\n  datetime.date(2022, 2, 11),\n  datetime.date(2022, 2, 12),\n  datetime.date(2022, 2, 13),\n  datetime.date(2022, 2, 14),\n  datetime.date(2022, 2, 15),\n  datetime.date(2022, 2, 16),\n  datetime.date(2022, 2, 17),\n  datetime.date(2022, 2, 18),\n  datetime.date(2022, 2, 19),\n  datetime.date(2022, 2, 20),\n  datetime.date(2022, 2, 21),\n  datetime.date(2022, 2, 22),\n  datetime.date(2022, 2, 23),\n  datetime.date(2022, 2, 24),\n  datetime.date(2022, 2, 25),\n  datetime.date(2022, 2, 26),\n  datetime.date(2022, 2, 27),\n  datetime.date(2022, 2, 28),\n  datetime.date(2022, 3, 1),\n  datetime.date(2022, 3, 2),\n  datetime.date(2022, 3, 3),\n  datetime.date(2022, 3, 4),\n  datetime.date(2022, 3, 5),\n  datetime.date(2022, 3, 6),\n  datetime.date(2022, 3, 7),\n  datetime.date(2022, 3, 8),\n  datetime.date(2022, 3, 9),\n  datetime.date(2022, 3, 10),\n  datetime.date(2022, 3, 11),\n  datetime.date(2022, 3, 12),\n  datetime.date(2022, 3, 13),\n  datetime.date(2022, 3, 14),\n  datetime.date(2022, 3, 15),\n  datetime.date(2022, 3, 16),\n  datetime.date(2022, 3, 17),\n  datetime.date(2022, 3, 18),\n  datetime.date(2022, 3, 19),\n  datetime.date(2022, 3, 20),\n  datetime.date(2022, 3, 21),\n  datetime.date(2022, 3, 22),\n  datetime.date(2022, 3, 23),\n  datetime.date(2022, 3, 24),\n  datetime.date(2022, 3, 25),\n  datetime.date(2022, 3, 26),\n  datetime.date(2022, 3, 27),\n  datetime.date(2022, 3, 28),\n  datetime.date(2022, 3, 29),\n  datetime.date(2022, 3, 30),\n  datetime.date(2022, 3, 31),\n  datetime.date(2022, 4, 1),\n  datetime.date(2022, 4, 2),\n  datetime.date(2022, 4, 3),\n  datetime.date(2022, 4, 4),\n  datetime.date(2022, 4, 5),\n  datetime.date(2022, 4, 6),\n  datetime.date(2022, 4, 7),\n  datetime.date(2022, 4, 8),\n  datetime.date(2022, 4, 9),\n  datetime.date(2022, 4, 10),\n  datetime.date(2022, 4, 11),\n  datetime.date(2022, 4, 12),\n  datetime.date(2022, 4, 13),\n  datetime.date(2022, 4, 14),\n  datetime.date(2022, 4, 15),\n  datetime.date(2022, 4, 16),\n  datetime.date(2022, 4, 17),\n  datetime.date(2022, 4, 18),\n  datetime.date(2022, 4, 19),\n  datetime.date(2022, 4, 20),\n  datetime.date(2022, 4, 21),\n  datetime.date(2022, 4, 22),\n  datetime.date(2022, 4, 23),\n  datetime.date(2022, 4, 24),\n  datetime.date(2022, 4, 25),\n  datetime.date(2022, 4, 26),\n  datetime.date(2022, 4, 27),\n  datetime.date(2022, 4, 28),\n  datetime.date(2022, 4, 29),\n  datetime.date(2022, 4, 30),\n  datetime.date(2022, 5, 1),\n  datetime.date(2022, 5, 2),\n  datetime.date(2022, 5, 3),\n  datetime.date(2022, 5, 4),\n  datetime.date(2022, 5, 5),\n  datetime.date(2022, 5, 6),\n  datetime.date(2022, 5, 7),\n  datetime.date(2022, 5, 8),\n  datetime.date(2022, 5, 9),\n  datetime.date(2022, 5, 10),\n  datetime.date(2022, 5, 11),\n  datetime.date(2022, 5, 12),\n  datetime.date(2022, 5, 13),\n  datetime.date(2022, 5, 14),\n  datetime.date(2022, 5, 15),\n  datetime.date(2022, 5, 16),\n  datetime.date(2022, 5, 17),\n  datetime.date(2022, 5, 18),\n  datetime.date(2022, 5, 19),\n  datetime.date(2022, 5, 20),\n  datetime.date(2022, 5, 21),\n  datetime.date(2022, 5, 22),\n  datetime.date(2022, 5, 23),\n  datetime.date(2022, 5, 24),\n  datetime.date(2022, 5, 25),\n  datetime.date(2022, 5, 26),\n  datetime.date(2022, 5, 27),\n  datetime.date(2022, 5, 28),\n  datetime.date(2022, 5, 29),\n  datetime.date(2022, 5, 30),\n  datetime.date(2022, 5, 31),\n  datetime.date(2022, 6, 1),\n  datetime.date(2022, 6, 2),\n  datetime.date(2022, 6, 3),\n  datetime.date(2022, 6, 4),\n  datetime.date(2022, 6, 5),\n  datetime.date(2022, 6, 6),\n  datetime.date(2022, 6, 7),\n  datetime.date(2022, 6, 8),\n  datetime.date(2022, 6, 9),\n  datetime.date(2022, 6, 10),\n  datetime.date(2022, 6, 11),\n  datetime.date(2022, 6, 12),\n  datetime.date(2022, 6, 13),\n  datetime.date(2022, 6, 14),\n  datetime.date(2022, 6, 15),\n  datetime.date(2022, 6, 16),\n  datetime.date(2022, 6, 17),\n  datetime.date(2022, 6, 18),\n  datetime.date(2022, 6, 19),\n  datetime.date(2022, 6, 20),\n  datetime.date(2022, 6, 21),\n  datetime.date(2022, 6, 22),\n  datetime.date(2022, 6, 23),\n  datetime.date(2022, 6, 24),\n  datetime.date(2022, 6, 25),\n  datetime.date(2022, 6, 26),\n  datetime.date(2022, 6, 27),\n  datetime.date(2022, 6, 28),\n  datetime.date(2022, 6, 29),\n  datetime.date(2022, 6, 30),\n  datetime.date(2022, 7, 1),\n  datetime.date(2022, 7, 2),\n  datetime.date(2022, 7, 3),\n  datetime.date(2022, 7, 4),\n  datetime.date(2022, 7, 5),\n  datetime.date(2022, 7, 6),\n  datetime.date(2022, 7, 7),\n  datetime.date(2022, 7, 8),\n  datetime.date(2022, 7, 9),\n  datetime.date(2022, 7, 10),\n  datetime.date(2022, 7, 11),\n  datetime.date(2022, 7, 12),\n  datetime.date(2022, 7, 13),\n  datetime.date(2022, 7, 14),\n  datetime.date(2022, 7, 15),\n  datetime.date(2022, 7, 16),\n  datetime.date(2022, 7, 17),\n  datetime.date(2022, 7, 18),\n  datetime.date(2022, 7, 19),\n  datetime.date(2022, 7, 20),\n  datetime.date(2022, 7, 21),\n  datetime.date(2022, 7, 22),\n  datetime.date(2022, 7, 23),\n  datetime.date(2022, 7, 24),\n  datetime.date(2022, 7, 25),\n  datetime.date(2022, 7, 26),\n  datetime.date(2022, 7, 27),\n  datetime.date(2022, 7, 28),\n  datetime.date(2022, 7, 29),\n  datetime.date(2022, 7, 30),\n  datetime.date(2022, 7, 31),\n  datetime.date(2022, 8, 1),\n  datetime.date(2022, 8, 2),\n  datetime.date(2022, 8, 3),\n  datetime.date(2022, 8, 4),\n  datetime.date(2022, 8, 5),\n  datetime.date(2022, 8, 6),\n  datetime.date(2022, 8, 7),\n  datetime.date(2022, 8, 8),\n  datetime.date(2022, 8, 9),\n  datetime.date(2022, 8, 10),\n  datetime.date(2022, 8, 11),\n  datetime.date(2022, 8, 12),\n  datetime.date(2022, 8, 13),\n  datetime.date(2022, 8, 14),\n  datetime.date(2022, 8, 15),\n  datetime.date(2022, 8, 16),\n  datetime.date(2022, 8, 17),\n  datetime.date(2022, 8, 18),\n  datetime.date(2022, 8, 19),\n  datetime.date(2022, 8, 20),\n  datetime.date(2022, 8, 21),\n  datetime.date(2022, 8, 22),\n  datetime.date(2022, 8, 23),\n  datetime.date(2022, 8, 24),\n  datetime.date(2022, 8, 25),\n  datetime.date(2022, 8, 26),\n  datetime.date(2022, 8, 27),\n  datetime.date(2022, 8, 28),\n  datetime.date(2022, 8, 29),\n  datetime.date(2022, 8, 30),\n  datetime.date(2022, 8, 31),\n  datetime.date(2022, 9, 1),\n  datetime.date(2022, 9, 2),\n  datetime.date(2022, 9, 3),\n  datetime.date(2022, 9, 4),\n  datetime.date(2022, 9, 5),\n  datetime.date(2022, 9, 6),\n  datetime.date(2022, 9, 7),\n  datetime.date(2022, 9, 8),\n  datetime.date(2022, 9, 9),\n  datetime.date(2022, 9, 10),\n  datetime.date(2022, 9, 11),\n  datetime.date(2022, 9, 12),\n  datetime.date(2022, 9, 13),\n  datetime.date(2022, 9, 14),\n  datetime.date(2022, 9, 15),\n  datetime.date(2022, 9, 16),\n  datetime.date(2022, 9, 17),\n  datetime.date(2022, 9, 18),\n  datetime.date(2022, 9, 19),\n  datetime.date(2022, 9, 20),\n  datetime.date(2022, 9, 21),\n  datetime.date(2022, 9, 22),\n  datetime.date(2022, 9, 23),\n  datetime.date(2022, 9, 24),\n  datetime.date(2022, 9, 25),\n  datetime.date(2022, 9, 26),\n  datetime.date(2022, 9, 27),\n  datetime.date(2022, 9, 28),\n  datetime.date(2022, 9, 29),\n  datetime.date(2022, 9, 30),\n  datetime.date(2022, 10, 1),\n  datetime.date(2022, 10, 2),\n  datetime.date(2022, 10, 3),\n  datetime.date(2022, 10, 4),\n  datetime.date(2022, 10, 5),\n  datetime.date(2022, 10, 6),\n  datetime.date(2022, 10, 7),\n  datetime.date(2022, 10, 8),\n  datetime.date(2022, 10, 9),\n  datetime.date(2022, 10, 10),\n  datetime.date(2022, 10, 11),\n  datetime.date(2022, 10, 12),\n  datetime.date(2022, 10, 13),\n  datetime.date(2022, 10, 14),\n  datetime.date(2022, 10, 15),\n  datetime.date(2022, 10, 16),\n  datetime.date(2022, 10, 17),\n  datetime.date(2022, 10, 18),\n  datetime.date(2022, 10, 19),\n  datetime.date(2022, 10, 20),\n  datetime.date(2022, 10, 21),\n  datetime.date(2022, 10, 22),\n  datetime.date(2022, 10, 23),\n  datetime.date(2022, 10, 24),\n  datetime.date(2022, 10, 25),\n  datetime.date(2022, 10, 26),\n  datetime.date(2022, 10, 27),\n  datetime.date(2022, 10, 28),\n  datetime.date(2022, 10, 29),\n  datetime.date(2022, 10, 30),\n  datetime.date(2022, 10, 31),\n  datetime.date(2022, 11, 1),\n  datetime.date(2022, 11, 2),\n  datetime.date(2022, 11, 3),\n  datetime.date(2022, 11, 4),\n  datetime.date(2022, 11, 5),\n  datetime.date(2022, 11, 6),\n  datetime.date(2022, 11, 7),\n  datetime.date(2022, 11, 8),\n  datetime.date(2022, 11, 9),\n  datetime.date(2022, 11, 10),\n  datetime.date(2022, 11, 11),\n  datetime.date(2022, 11, 12),\n  datetime.date(2022, 11, 13),\n  datetime.date(2022, 11, 14),\n  datetime.date(2022, 11, 15),\n  datetime.date(2022, 11, 16),\n  datetime.date(2022, 11, 17),\n  datetime.date(2022, 11, 18),\n  datetime.date(2022, 11, 19),\n  datetime.date(2022, 11, 20),\n  datetime.date(2022, 11, 21),\n  datetime.date(2022, 11, 22),\n  datetime.date(2022, 11, 23),\n  datetime.date(2022, 11, 24),\n  datetime.date(2022, 11, 25),\n  datetime.date(2022, 11, 26),\n  datetime.date(2022, 11, 27),\n  datetime.date(2022, 11, 28),\n  datetime.date(2022, 11, 29),\n  datetime.date(2022, 11, 30),\n  datetime.date(2022, 12, 1),\n  datetime.date(2022, 12, 2),\n  datetime.date(2022, 12, 3),\n  datetime.date(2022, 12, 4),\n  datetime.date(2022, 12, 5),\n  datetime.date(2022, 12, 6),\n  datetime.date(2022, 12, 7),\n  datetime.date(2022, 12, 8),\n  datetime.date(2022, 12, 9),\n  datetime.date(2022, 12, 10),\n  datetime.date(2022, 12, 11),\n  datetime.date(2022, 12, 12),\n  datetime.date(2022, 12, 13),\n  datetime.date(2022, 12, 14),\n  datetime.date(2022, 12, 15),\n  datetime.date(2022, 12, 16),\n  datetime.date(2022, 12, 17),\n  datetime.date(2022, 12, 18),\n  datetime.date(2022, 12, 19),\n  datetime.date(2022, 12, 20),\n  datetime.date(2022, 12, 21),\n  datetime.date(2022, 12, 22),\n  datetime.date(2022, 12, 23),\n  datetime.date(2022, 12, 24),\n  datetime.date(2022, 12, 25),\n  datetime.date(2022, 12, 26),\n  datetime.date(2022, 12, 27),\n  datetime.date(2022, 12, 28),\n  datetime.date(2022, 12, 29),\n  datetime.date(2022, 12, 30),\n  datetime.date(2022, 12, 31),\n  datetime.date(2023, 1, 1),\n  datetime.date(2023, 1, 2),\n  datetime.date(2023, 1, 3),\n  datetime.date(2023, 1, 4),\n  datetime.date(2023, 1, 5),\n  datetime.date(2023, 1, 6),\n  datetime.date(2023, 1, 7),\n  datetime.date(2023, 1, 8),\n  datetime.date(2023, 1, 9),\n  datetime.date(2023, 1, 10),\n  datetime.date(2023, 1, 11),\n  datetime.date(2023, 1, 12),\n  datetime.date(2023, 1, 13),\n  datetime.date(2023, 1, 14),\n  datetime.date(2023, 1, 15),\n  datetime.date(2023, 1, 16),\n  datetime.date(2023, 1, 17),\n  datetime.date(2023, 1, 18),\n  datetime.date(2023, 1, 19),\n  datetime.date(2023, 1, 20),\n  datetime.date(2023, 1, 21),\n  datetime.date(2023, 1, 22),\n  datetime.date(2023, 1, 23),\n  datetime.date(2023, 1, 24),\n  datetime.date(2023, 1, 25),\n  datetime.date(2023, 1, 26),\n  datetime.date(2023, 1, 27),\n  datetime.date(2023, 1, 28),\n  datetime.date(2023, 1, 29),\n  datetime.date(2023, 1, 30),\n  datetime.date(2023, 1, 31),\n  datetime.date(2023, 2, 1),\n  datetime.date(2023, 2, 2),\n  datetime.date(2023, 2, 3),\n  datetime.date(2023, 2, 4),\n  datetime.date(2023, 2, 5),\n  datetime.date(2023, 2, 6),\n  datetime.date(2023, 2, 7),\n  datetime.date(2023, 2, 8),\n  datetime.date(2023, 2, 9),\n  datetime.date(2023, 2, 10),\n  datetime.date(2023, 2, 11),\n  datetime.date(2023, 2, 12),\n  datetime.date(2023, 2, 13),\n  datetime.date(2023, 2, 14),\n  datetime.date(2023, 2, 15),\n  datetime.date(2023, 2, 16),\n  datetime.date(2023, 2, 17),\n  datetime.date(2023, 2, 18)]}"
     },
     "execution_count": 8,
     "metadata": {},
     "output_type": "execute_result"
    }
   ],
   "source": [
    "d"
   ],
   "metadata": {
    "collapsed": false,
    "pycharm": {
     "name": "#%%\n"
    }
   }
  },
  {
   "cell_type": "code",
   "execution_count": 9,
   "outputs": [],
   "source": [
    "import datetime"
   ],
   "metadata": {
    "collapsed": false,
    "pycharm": {
     "name": "#%%\n"
    }
   }
  },
  {
   "cell_type": "code",
   "execution_count": 15,
   "outputs": [],
   "source": [
    "n = datetime.datetime.now()"
   ],
   "metadata": {
    "collapsed": false,
    "pycharm": {
     "name": "#%%\n"
    }
   }
  },
  {
   "cell_type": "code",
   "execution_count": 16,
   "outputs": [],
   "source": [
    "d = datetime.datetime(2023, 2, 20, 10, 0, 0)"
   ],
   "metadata": {
    "collapsed": false,
    "pycharm": {
     "name": "#%%\n"
    }
   }
  },
  {
   "cell_type": "code",
   "execution_count": 21,
   "outputs": [
    {
     "data": {
      "text/plain": "True"
     },
     "execution_count": 21,
     "metadata": {},
     "output_type": "execute_result"
    }
   ],
   "source": [
    "(n-d).seconds > 3600"
   ],
   "metadata": {
    "collapsed": false,
    "pycharm": {
     "name": "#%%\n"
    }
   }
  },
  {
   "cell_type": "code",
   "execution_count": null,
   "outputs": [],
   "source": [
    "def test_time(t: datetime.datetime, seconds: float) -> bool:\n",
    "    if not isinstance(t, datetime.datetime):\n",
    "        return None\n",
    "    _diff = (datetime.datetime.now() - t).seconds\n",
    "    if _diff > seconds:\n",
    "        return True\n",
    "    else:\n",
    "        return False"
   ],
   "metadata": {
    "collapsed": false,
    "pycharm": {
     "name": "#%%\n"
    }
   }
  },
  {
   "cell_type": "code",
   "execution_count": null,
   "outputs": [],
   "source": [],
   "metadata": {
    "collapsed": false,
    "pycharm": {
     "name": "#%%\n"
    }
   }
  },
  {
   "cell_type": "code",
   "execution_count": 22,
   "outputs": [],
   "source": [
    "import pandas as pd"
   ],
   "metadata": {
    "collapsed": false,
    "pycharm": {
     "name": "#%%\n"
    }
   }
  },
  {
   "cell_type": "code",
   "execution_count": 24,
   "outputs": [
    {
     "data": {
      "text/plain": "   dates  name\n0      0  plop\n1      2  plop\n2      3  plop\n3      4  plop\n4      5  plop",
      "text/html": "<div>\n<style scoped>\n    .dataframe tbody tr th:only-of-type {\n        vertical-align: middle;\n    }\n\n    .dataframe tbody tr th {\n        vertical-align: top;\n    }\n\n    .dataframe thead th {\n        text-align: right;\n    }\n</style>\n<table border=\"1\" class=\"dataframe\">\n  <thead>\n    <tr style=\"text-align: right;\">\n      <th></th>\n      <th>dates</th>\n      <th>name</th>\n    </tr>\n  </thead>\n  <tbody>\n    <tr>\n      <th>0</th>\n      <td>0</td>\n      <td>plop</td>\n    </tr>\n    <tr>\n      <th>1</th>\n      <td>2</td>\n      <td>plop</td>\n    </tr>\n    <tr>\n      <th>2</th>\n      <td>3</td>\n      <td>plop</td>\n    </tr>\n    <tr>\n      <th>3</th>\n      <td>4</td>\n      <td>plop</td>\n    </tr>\n    <tr>\n      <th>4</th>\n      <td>5</td>\n      <td>plop</td>\n    </tr>\n  </tbody>\n</table>\n</div>"
     },
     "execution_count": 24,
     "metadata": {},
     "output_type": "execute_result"
    }
   ],
   "source": [
    "pd.DataFrame(\n",
    "    {\n",
    "        'dates': [0, 2, 3, 4, 5],\n",
    "        'name': 'plop'\n",
    "    }\n",
    ")"
   ],
   "metadata": {
    "collapsed": false,
    "pycharm": {
     "name": "#%%\n"
    }
   }
  },
  {
   "cell_type": "code",
   "execution_count": 26,
   "outputs": [],
   "source": [
    "df = pd.DataFrame(([1,2], [3,4]), columns=['dates', 'name'])"
   ],
   "metadata": {
    "collapsed": false,
    "pycharm": {
     "name": "#%%\n"
    }
   }
  },
  {
   "cell_type": "code",
   "execution_count": 27,
   "outputs": [
    {
     "data": {
      "text/plain": "   dates  name\n0      1     2\n1      3     4",
      "text/html": "<div>\n<style scoped>\n    .dataframe tbody tr th:only-of-type {\n        vertical-align: middle;\n    }\n\n    .dataframe tbody tr th {\n        vertical-align: top;\n    }\n\n    .dataframe thead th {\n        text-align: right;\n    }\n</style>\n<table border=\"1\" class=\"dataframe\">\n  <thead>\n    <tr style=\"text-align: right;\">\n      <th></th>\n      <th>dates</th>\n      <th>name</th>\n    </tr>\n  </thead>\n  <tbody>\n    <tr>\n      <th>0</th>\n      <td>1</td>\n      <td>2</td>\n    </tr>\n    <tr>\n      <th>1</th>\n      <td>3</td>\n      <td>4</td>\n    </tr>\n  </tbody>\n</table>\n</div>"
     },
     "execution_count": 27,
     "metadata": {},
     "output_type": "execute_result"
    }
   ],
   "source": [
    "df"
   ],
   "metadata": {
    "collapsed": false,
    "pycharm": {
     "name": "#%%\n"
    }
   }
  },
  {
   "cell_type": "code",
   "execution_count": 28,
   "outputs": [],
   "source": [
    "df.insert(loc=1, column='foo', value='bar')"
   ],
   "metadata": {
    "collapsed": false,
    "pycharm": {
     "name": "#%%\n"
    }
   }
  },
  {
   "cell_type": "code",
   "execution_count": 29,
   "outputs": [
    {
     "data": {
      "text/plain": "   dates  foo  name\n0      1  bar     2\n1      3  bar     4",
      "text/html": "<div>\n<style scoped>\n    .dataframe tbody tr th:only-of-type {\n        vertical-align: middle;\n    }\n\n    .dataframe tbody tr th {\n        vertical-align: top;\n    }\n\n    .dataframe thead th {\n        text-align: right;\n    }\n</style>\n<table border=\"1\" class=\"dataframe\">\n  <thead>\n    <tr style=\"text-align: right;\">\n      <th></th>\n      <th>dates</th>\n      <th>foo</th>\n      <th>name</th>\n    </tr>\n  </thead>\n  <tbody>\n    <tr>\n      <th>0</th>\n      <td>1</td>\n      <td>bar</td>\n      <td>2</td>\n    </tr>\n    <tr>\n      <th>1</th>\n      <td>3</td>\n      <td>bar</td>\n      <td>4</td>\n    </tr>\n  </tbody>\n</table>\n</div>"
     },
     "execution_count": 29,
     "metadata": {},
     "output_type": "execute_result"
    }
   ],
   "source": [
    "df"
   ],
   "metadata": {
    "collapsed": false,
    "pycharm": {
     "name": "#%%\n"
    }
   }
  },
  {
   "cell_type": "code",
   "execution_count": 32,
   "outputs": [],
   "source": [
    "d = [\n",
    "    {\n",
    "        'time': datetime.datetime.now(),\n",
    "        'name': 'joshua'\n",
    "    }\n",
    "]"
   ],
   "metadata": {
    "collapsed": false,
    "pycharm": {
     "name": "#%%\n"
    }
   }
  },
  {
   "cell_type": "code",
   "execution_count": 33,
   "outputs": [],
   "source": [
    "d.append({\n",
    "    'time': datetime.datetime.now(),\n",
    "    'name': 'amber'\n",
    "})"
   ],
   "metadata": {
    "collapsed": false,
    "pycharm": {
     "name": "#%%\n"
    }
   }
  },
  {
   "cell_type": "code",
   "execution_count": 58,
   "outputs": [
    {
     "data": {
      "text/plain": "[{'time': datetime.datetime(2023, 2, 20, 15, 36, 57, 232517),\n  'name': 'joshua'},\n {'time': datetime.datetime(2023, 2, 20, 15, 37, 32, 455120), 'name': 'amber'}]"
     },
     "execution_count": 58,
     "metadata": {},
     "output_type": "execute_result"
    }
   ],
   "source": [
    "d"
   ],
   "metadata": {
    "collapsed": false,
    "pycharm": {
     "name": "#%%\n"
    }
   }
  },
  {
   "cell_type": "code",
   "execution_count": 61,
   "outputs": [
    {
     "data": {
      "text/plain": "                        time    name\n0 2023-02-20 15:36:57.232517  joshua\n1 2023-02-20 15:37:32.455120   amber",
      "text/html": "<div>\n<style scoped>\n    .dataframe tbody tr th:only-of-type {\n        vertical-align: middle;\n    }\n\n    .dataframe tbody tr th {\n        vertical-align: top;\n    }\n\n    .dataframe thead th {\n        text-align: right;\n    }\n</style>\n<table border=\"1\" class=\"dataframe\">\n  <thead>\n    <tr style=\"text-align: right;\">\n      <th></th>\n      <th>time</th>\n      <th>name</th>\n    </tr>\n  </thead>\n  <tbody>\n    <tr>\n      <th>0</th>\n      <td>2023-02-20 15:36:57.232517</td>\n      <td>joshua</td>\n    </tr>\n    <tr>\n      <th>1</th>\n      <td>2023-02-20 15:37:32.455120</td>\n      <td>amber</td>\n    </tr>\n  </tbody>\n</table>\n</div>"
     },
     "execution_count": 61,
     "metadata": {},
     "output_type": "execute_result"
    }
   ],
   "source": [
    "pd.DataFrame.from_records(d)"
   ],
   "metadata": {
    "collapsed": false,
    "pycharm": {
     "name": "#%%\n"
    }
   }
  },
  {
   "cell_type": "code",
   "execution_count": 51,
   "outputs": [],
   "source": [
    "import requests\n",
    "url = \"http://httpbin.org/delay/2\"\n",
    "try:\n",
    "    r = requests.get(url, timeout=1)\n",
    "except requests.ReadTimeout as err:\n",
    "    e: requests.ReadTimeout = err"
   ],
   "metadata": {
    "collapsed": false,
    "pycharm": {
     "name": "#%%\n"
    }
   }
  },
  {
   "cell_type": "code",
   "execution_count": 56,
   "outputs": [
    {
     "data": {
      "text/plain": "'ReadTimeout(ReadTimeoutError(\"HTTPConnectionPool(host=\\'httpbin.org\\', port=80): Read timed out. (read timeout=1)\"))'"
     },
     "execution_count": 56,
     "metadata": {},
     "output_type": "execute_result"
    }
   ],
   "source": [
    "e.__repr__()"
   ],
   "metadata": {
    "collapsed": false,
    "pycharm": {
     "name": "#%%\n"
    }
   }
  },
  {
   "cell_type": "code",
   "execution_count": 57,
   "outputs": [
    {
     "data": {
      "text/plain": "\"HTTPConnectionPool(host='httpbin.org', port=80): Read timed out. (read timeout=1)\""
     },
     "execution_count": 57,
     "metadata": {},
     "output_type": "execute_result"
    }
   ],
   "source": [
    "f\"{e}\""
   ],
   "metadata": {
    "collapsed": false,
    "pycharm": {
     "name": "#%%\n"
    }
   }
  },
  {
   "cell_type": "code",
   "execution_count": null,
   "outputs": [],
   "source": [],
   "metadata": {
    "collapsed": false,
    "pycharm": {
     "name": "#%%\n"
    }
   }
  }
 ],
 "metadata": {
  "kernelspec": {
   "display_name": "Python 3",
   "language": "python",
   "name": "python3"
  },
  "language_info": {
   "codemirror_mode": {
    "name": "ipython",
    "version": 2
   },
   "file_extension": ".py",
   "mimetype": "text/x-python",
   "name": "python",
   "nbconvert_exporter": "python",
   "pygments_lexer": "ipython2",
   "version": "2.7.6"
  }
 },
 "nbformat": 4,
 "nbformat_minor": 0
}